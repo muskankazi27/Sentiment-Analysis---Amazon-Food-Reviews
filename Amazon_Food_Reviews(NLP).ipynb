{
 "cells": [
  {
   "cell_type": "markdown",
   "id": "ac5e3ea1",
   "metadata": {},
   "source": [
    "# Amazon Food Reviews - Sentiment Analysis."
   ]
  },
  {
   "cell_type": "raw",
   "id": "8e24cfd1",
   "metadata": {},
   "source": [
    "The file contains reviews of food products from Amazon. The reviews are from a variety of different countries, and the products are from a variety of different brands."
   ]
  },
  {
   "cell_type": "markdown",
   "id": "2735da40",
   "metadata": {},
   "source": [
    "# Objective"
   ]
  },
  {
   "cell_type": "markdown",
   "id": "51c94948",
   "metadata": {},
   "source": [
    "To determine the sentiment of a given review. (Negative/ Neutral/ Positive)"
   ]
  },
  {
   "cell_type": "markdown",
   "id": "550631d5",
   "metadata": {},
   "source": [
    "# Dataset Description"
   ]
  },
  {
   "cell_type": "markdown",
   "id": "14ea6ec0",
   "metadata": {},
   "source": [
    "- ProductId : Unique identifier for the product\n",
    "- UserId : Unqiue identifier for the user\n",
    "- ProfileName : Name of customer\n",
    "- HelpfulnessNumerator : Number of users who found the review helpful\n",
    "- HelpfulnessDenominator : Number of users who indicated whether they found the review helpful or not\n",
    "- Score : Rating between 1 and 5\n",
    "- Time : Timestamp for the review\n",
    "- Summary : Brief summary of the review\n",
    "- Text : Review text"
   ]
  },
  {
   "cell_type": "markdown",
   "id": "c2270b77",
   "metadata": {},
   "source": [
    " Importing necessary libraries"
   ]
  },
  {
   "cell_type": "code",
   "execution_count": 1,
   "id": "a0e48642",
   "metadata": {},
   "outputs": [],
   "source": [
    "import pandas as pd\n",
    "import numpy as np\n",
    "import matplotlib.pyplot as plt\n",
    "import warnings\n",
    "warnings.filterwarnings('ignore')"
   ]
  },
  {
   "cell_type": "markdown",
   "id": "82e60240",
   "metadata": {},
   "source": [
    "Reading the file"
   ]
  },
  {
   "cell_type": "code",
   "execution_count": 2,
   "id": "f29f2b9c",
   "metadata": {},
   "outputs": [],
   "source": [
    "review=pd.read_csv(\"AmazonFoodReviews.csv\",encoding='utf8')"
   ]
  },
  {
   "cell_type": "code",
   "execution_count": 3,
   "id": "30a92517",
   "metadata": {},
   "outputs": [
    {
     "data": {
      "text/html": [
       "<div>\n",
       "<style scoped>\n",
       "    .dataframe tbody tr th:only-of-type {\n",
       "        vertical-align: middle;\n",
       "    }\n",
       "\n",
       "    .dataframe tbody tr th {\n",
       "        vertical-align: top;\n",
       "    }\n",
       "\n",
       "    .dataframe thead th {\n",
       "        text-align: right;\n",
       "    }\n",
       "</style>\n",
       "<table border=\"1\" class=\"dataframe\">\n",
       "  <thead>\n",
       "    <tr style=\"text-align: right;\">\n",
       "      <th></th>\n",
       "      <th>Id</th>\n",
       "      <th>ProductId</th>\n",
       "      <th>UserId</th>\n",
       "      <th>ProfileName</th>\n",
       "      <th>HelpfulnessNumerator</th>\n",
       "      <th>HelpfulnessDenominator</th>\n",
       "      <th>Score</th>\n",
       "      <th>Time</th>\n",
       "      <th>Summary</th>\n",
       "      <th>Text</th>\n",
       "    </tr>\n",
       "  </thead>\n",
       "  <tbody>\n",
       "    <tr>\n",
       "      <th>0</th>\n",
       "      <td>1</td>\n",
       "      <td>B001E4KFG0</td>\n",
       "      <td>A3SGXH7AUHU8GW</td>\n",
       "      <td>delmartian</td>\n",
       "      <td>1</td>\n",
       "      <td>1</td>\n",
       "      <td>5</td>\n",
       "      <td>1303862400</td>\n",
       "      <td>Good Quality Dog Food</td>\n",
       "      <td>I have bought several of the Vitality canned d...</td>\n",
       "    </tr>\n",
       "    <tr>\n",
       "      <th>1</th>\n",
       "      <td>2</td>\n",
       "      <td>B00813GRG4</td>\n",
       "      <td>A1D87F6ZCVE5NK</td>\n",
       "      <td>dll pa</td>\n",
       "      <td>0</td>\n",
       "      <td>0</td>\n",
       "      <td>1</td>\n",
       "      <td>1346976000</td>\n",
       "      <td>Not as Advertised</td>\n",
       "      <td>Product arrived labeled as Jumbo Salted Peanut...</td>\n",
       "    </tr>\n",
       "    <tr>\n",
       "      <th>2</th>\n",
       "      <td>3</td>\n",
       "      <td>B000LQOCH0</td>\n",
       "      <td>ABXLMWJIXXAIN</td>\n",
       "      <td>Natalia Corres \"Natalia Corres\"</td>\n",
       "      <td>1</td>\n",
       "      <td>1</td>\n",
       "      <td>4</td>\n",
       "      <td>1219017600</td>\n",
       "      <td>\"Delight\" says it all</td>\n",
       "      <td>This is a confection that has been around a fe...</td>\n",
       "    </tr>\n",
       "    <tr>\n",
       "      <th>3</th>\n",
       "      <td>4</td>\n",
       "      <td>B000UA0QIQ</td>\n",
       "      <td>A395BORC6FGVXV</td>\n",
       "      <td>Karl</td>\n",
       "      <td>3</td>\n",
       "      <td>3</td>\n",
       "      <td>2</td>\n",
       "      <td>1307923200</td>\n",
       "      <td>Cough Medicine</td>\n",
       "      <td>If you are looking for the secret ingredient i...</td>\n",
       "    </tr>\n",
       "    <tr>\n",
       "      <th>4</th>\n",
       "      <td>5</td>\n",
       "      <td>B006K2ZZ7K</td>\n",
       "      <td>A1UQRSCLF8GW1T</td>\n",
       "      <td>Michael D. Bigham \"M. Wassir\"</td>\n",
       "      <td>0</td>\n",
       "      <td>0</td>\n",
       "      <td>5</td>\n",
       "      <td>1350777600</td>\n",
       "      <td>Great taffy</td>\n",
       "      <td>Great taffy at a great price.  There was a wid...</td>\n",
       "    </tr>\n",
       "  </tbody>\n",
       "</table>\n",
       "</div>"
      ],
      "text/plain": [
       "   Id   ProductId          UserId                      ProfileName  \\\n",
       "0   1  B001E4KFG0  A3SGXH7AUHU8GW                       delmartian   \n",
       "1   2  B00813GRG4  A1D87F6ZCVE5NK                           dll pa   \n",
       "2   3  B000LQOCH0   ABXLMWJIXXAIN  Natalia Corres \"Natalia Corres\"   \n",
       "3   4  B000UA0QIQ  A395BORC6FGVXV                             Karl   \n",
       "4   5  B006K2ZZ7K  A1UQRSCLF8GW1T    Michael D. Bigham \"M. Wassir\"   \n",
       "\n",
       "   HelpfulnessNumerator  HelpfulnessDenominator  Score        Time  \\\n",
       "0                     1                       1      5  1303862400   \n",
       "1                     0                       0      1  1346976000   \n",
       "2                     1                       1      4  1219017600   \n",
       "3                     3                       3      2  1307923200   \n",
       "4                     0                       0      5  1350777600   \n",
       "\n",
       "                 Summary                                               Text  \n",
       "0  Good Quality Dog Food  I have bought several of the Vitality canned d...  \n",
       "1      Not as Advertised  Product arrived labeled as Jumbo Salted Peanut...  \n",
       "2  \"Delight\" says it all  This is a confection that has been around a fe...  \n",
       "3         Cough Medicine  If you are looking for the secret ingredient i...  \n",
       "4            Great taffy  Great taffy at a great price.  There was a wid...  "
      ]
     },
     "execution_count": 3,
     "metadata": {},
     "output_type": "execute_result"
    }
   ],
   "source": [
    "review.head()"
   ]
  },
  {
   "cell_type": "code",
   "execution_count": 4,
   "id": "b79dfb73",
   "metadata": {},
   "outputs": [
    {
     "data": {
      "text/plain": [
       "(299438, 10)"
      ]
     },
     "execution_count": 4,
     "metadata": {},
     "output_type": "execute_result"
    }
   ],
   "source": [
    "review.shape"
   ]
  },
  {
   "cell_type": "markdown",
   "id": "b1a5451f",
   "metadata": {},
   "source": [
    "Checking for the null values"
   ]
  },
  {
   "cell_type": "code",
   "execution_count": 5,
   "id": "1ed05486",
   "metadata": {},
   "outputs": [
    {
     "data": {
      "text/plain": [
       "ProfileName     9\n",
       "Summary        11\n",
       "dtype: int64"
      ]
     },
     "execution_count": 5,
     "metadata": {},
     "output_type": "execute_result"
    }
   ],
   "source": [
    "review.isnull().sum()[review.isnull().sum()>0]"
   ]
  },
  {
   "cell_type": "markdown",
   "id": "3ba0d531",
   "metadata": {},
   "source": [
    "Filling the null values"
   ]
  },
  {
   "cell_type": "code",
   "execution_count": 6,
   "id": "71bb592d",
   "metadata": {},
   "outputs": [],
   "source": [
    "review.ProfileName=review.ProfileName.fillna('C. F. Hill \"CFH\"')\n",
    "review.Summary=review.Summary.fillna('Delicious!')"
   ]
  },
  {
   "cell_type": "code",
   "execution_count": 7,
   "id": "d7308b27",
   "metadata": {},
   "outputs": [
    {
     "data": {
      "text/plain": [
       "Series([], dtype: int64)"
      ]
     },
     "execution_count": 7,
     "metadata": {},
     "output_type": "execute_result"
    }
   ],
   "source": [
    "review.isnull().sum()[review.isnull().sum()>0]"
   ]
  },
  {
   "cell_type": "markdown",
   "id": "629167f3",
   "metadata": {},
   "source": [
    "Converting the 5 star rating into 3 star rating scores for easy classification."
   ]
  },
  {
   "cell_type": "code",
   "execution_count": 8,
   "id": "eb0f7e75",
   "metadata": {},
   "outputs": [],
   "source": [
    "review.Score=review.Score.replace({2:1, 3:2, 4:3 ,5:3})"
   ]
  },
  {
   "cell_type": "code",
   "execution_count": 9,
   "id": "2880531c",
   "metadata": {},
   "outputs": [
    {
     "data": {
      "text/plain": [
       "array([], shape=(0, 10), dtype=object)"
      ]
     },
     "execution_count": 9,
     "metadata": {},
     "output_type": "execute_result"
    }
   ],
   "source": [
    "review.columns[review.select_dtypes=='object']"
   ]
  },
  {
   "cell_type": "code",
   "execution_count": 10,
   "id": "f372a72f",
   "metadata": {},
   "outputs": [],
   "source": [
    "review=review.iloc[ : , [6,9]]"
   ]
  },
  {
   "cell_type": "code",
   "execution_count": 11,
   "id": "67dde3be",
   "metadata": {},
   "outputs": [
    {
     "data": {
      "text/html": [
       "<div>\n",
       "<style scoped>\n",
       "    .dataframe tbody tr th:only-of-type {\n",
       "        vertical-align: middle;\n",
       "    }\n",
       "\n",
       "    .dataframe tbody tr th {\n",
       "        vertical-align: top;\n",
       "    }\n",
       "\n",
       "    .dataframe thead th {\n",
       "        text-align: right;\n",
       "    }\n",
       "</style>\n",
       "<table border=\"1\" class=\"dataframe\">\n",
       "  <thead>\n",
       "    <tr style=\"text-align: right;\">\n",
       "      <th></th>\n",
       "      <th>Score</th>\n",
       "      <th>Text</th>\n",
       "    </tr>\n",
       "  </thead>\n",
       "  <tbody>\n",
       "    <tr>\n",
       "      <th>0</th>\n",
       "      <td>3</td>\n",
       "      <td>I have bought several of the Vitality canned d...</td>\n",
       "    </tr>\n",
       "    <tr>\n",
       "      <th>1</th>\n",
       "      <td>1</td>\n",
       "      <td>Product arrived labeled as Jumbo Salted Peanut...</td>\n",
       "    </tr>\n",
       "  </tbody>\n",
       "</table>\n",
       "</div>"
      ],
      "text/plain": [
       "   Score                                               Text\n",
       "0      3  I have bought several of the Vitality canned d...\n",
       "1      1  Product arrived labeled as Jumbo Salted Peanut..."
      ]
     },
     "execution_count": 11,
     "metadata": {},
     "output_type": "execute_result"
    }
   ],
   "source": [
    "review.head(2)"
   ]
  },
  {
   "cell_type": "code",
   "execution_count": 12,
   "id": "e4210d19",
   "metadata": {},
   "outputs": [
    {
     "data": {
      "text/plain": [
       "0         I have bought several of the Vitality canned d...\n",
       "1         Product arrived labeled as Jumbo Salted Peanut...\n",
       "2         This is a confection that has been around a fe...\n",
       "3         If you are looking for the secret ingredient i...\n",
       "4         Great taffy at a great price.  There was a wid...\n",
       "                                ...                        \n",
       "299433    i really have to say I love this chamomile tea...\n",
       "299434    Better than many I have tried.  With a little ...\n",
       "299435    I ordered this for my boyfriend because he has...\n",
       "299436    I know nettle tea has a pretty distinct taste,...\n",
       "299437    These reviews are wrong.It may work but I coul...\n",
       "Name: Text, Length: 299438, dtype: object"
      ]
     },
     "execution_count": 12,
     "metadata": {},
     "output_type": "execute_result"
    }
   ],
   "source": [
    "review.Text"
   ]
  },
  {
   "cell_type": "markdown",
   "id": "a11b2faf",
   "metadata": {},
   "source": [
    "Converting all the strings to lower case"
   ]
  },
  {
   "cell_type": "code",
   "execution_count": 13,
   "id": "1c2c3af9",
   "metadata": {},
   "outputs": [],
   "source": [
    "review.Text=review.Text.str.lower()"
   ]
  },
  {
   "cell_type": "code",
   "execution_count": 14,
   "id": "6a4dfbc9",
   "metadata": {},
   "outputs": [],
   "source": [
    "from nltk.corpus import stopwords"
   ]
  },
  {
   "cell_type": "code",
   "execution_count": 15,
   "id": "f5358ed1",
   "metadata": {},
   "outputs": [],
   "source": [
    "l1 = stopwords.words(\"english\")"
   ]
  },
  {
   "cell_type": "code",
   "execution_count": 16,
   "id": "4109bb72",
   "metadata": {},
   "outputs": [],
   "source": [
    "import string"
   ]
  },
  {
   "cell_type": "code",
   "execution_count": 17,
   "id": "5015672c",
   "metadata": {},
   "outputs": [],
   "source": [
    "def text_process(mess):            ### creating a function\n",
    "    \"\"\"                                                        ## a docstring\n",
    "    1. remove the punctuation\n",
    "    2. remove the stopwords\n",
    "    3. return the list of clean textwords\n",
    "    \n",
    "    \"\"\"\n",
    "    nopunc = [char for char in mess if char not in string.punctuation]\n",
    "    nopunc = \"\".join(nopunc)\n",
    "    \n",
    "    return [ word for word in nopunc.split() if word not in l1]"
   ]
  },
  {
   "cell_type": "code",
   "execution_count": 18,
   "id": "12d93da4",
   "metadata": {},
   "outputs": [],
   "source": [
    "from sklearn.feature_extraction.text import CountVectorizer"
   ]
  },
  {
   "cell_type": "code",
   "execution_count": 19,
   "id": "7d9f380d",
   "metadata": {},
   "outputs": [],
   "source": [
    "review_count=CountVectorizer(analyzer=text_process).fit(review['Text'])"
   ]
  },
  {
   "cell_type": "code",
   "execution_count": 20,
   "id": "e100012d",
   "metadata": {},
   "outputs": [],
   "source": [
    "review_x = review_count.transform(review['Text'])"
   ]
  },
  {
   "cell_type": "code",
   "execution_count": 21,
   "id": "4470bcb4",
   "metadata": {},
   "outputs": [
    {
     "data": {
      "text/plain": [
       "(299438, 173203)"
      ]
     },
     "execution_count": 21,
     "metadata": {},
     "output_type": "execute_result"
    }
   ],
   "source": [
    "review_x.shape"
   ]
  },
  {
   "cell_type": "code",
   "execution_count": 22,
   "id": "824f35da",
   "metadata": {},
   "outputs": [],
   "source": [
    "from sklearn.model_selection import train_test_split\n",
    "\n",
    "x_train ,x_test ,y_train ,y_test = train_test_split(review_x ,review.Score ,test_size=.2)"
   ]
  },
  {
   "cell_type": "code",
   "execution_count": 23,
   "id": "1d59aaef",
   "metadata": {},
   "outputs": [
    {
     "name": "stdout",
     "output_type": "stream",
     "text": [
      "(239550, 173203) (239550,)\n"
     ]
    }
   ],
   "source": [
    "print(x_train.shape , y_train.shape)"
   ]
  },
  {
   "cell_type": "code",
   "execution_count": 24,
   "id": "b0343d02",
   "metadata": {},
   "outputs": [
    {
     "name": "stdout",
     "output_type": "stream",
     "text": [
      "(59888, 173203) (59888,)\n"
     ]
    }
   ],
   "source": [
    "print(x_test.shape , y_test.shape)"
   ]
  },
  {
   "cell_type": "markdown",
   "id": "6beab735",
   "metadata": {},
   "source": [
    "# Logistic Regression"
   ]
  },
  {
   "cell_type": "code",
   "execution_count": 25,
   "id": "2ddd94c1",
   "metadata": {},
   "outputs": [],
   "source": [
    "from sklearn.linear_model import LogisticRegression\n",
    "lr = LogisticRegression()"
   ]
  },
  {
   "cell_type": "code",
   "execution_count": 26,
   "id": "44cd8f73",
   "metadata": {},
   "outputs": [
    {
     "data": {
      "text/plain": [
       "LogisticRegression()"
      ]
     },
     "execution_count": 26,
     "metadata": {},
     "output_type": "execute_result"
    }
   ],
   "source": [
    "lr.fit(x_train,y_train)"
   ]
  },
  {
   "cell_type": "code",
   "execution_count": 27,
   "id": "802b663e",
   "metadata": {},
   "outputs": [],
   "source": [
    "pred=lr.predict(x_test)"
   ]
  },
  {
   "cell_type": "code",
   "execution_count": 28,
   "id": "1758fc1d",
   "metadata": {},
   "outputs": [
    {
     "data": {
      "text/plain": [
       "array([[ 6071,   534,  2098],\n",
       "       [  890,  1476,  2275],\n",
       "       [ 1119,   835, 44590]], dtype=int64)"
      ]
     },
     "execution_count": 28,
     "metadata": {},
     "output_type": "execute_result"
    }
   ],
   "source": [
    "from sklearn.metrics import confusion_matrix\n",
    "tab=confusion_matrix(y_test,pred)\n",
    "tab"
   ]
  },
  {
   "cell_type": "code",
   "execution_count": 29,
   "id": "6c6c1a79",
   "metadata": {},
   "outputs": [
    {
     "name": "stdout",
     "output_type": "stream",
     "text": [
      "Accuracy =  87.05750734704782\n"
     ]
    }
   ],
   "source": [
    "from sklearn.metrics import accuracy_score\n",
    "print('Accuracy = ',accuracy_score(y_test,pred)*100)"
   ]
  },
  {
   "cell_type": "code",
   "execution_count": null,
   "id": "3fe9443c",
   "metadata": {},
   "outputs": [],
   "source": []
  },
  {
   "cell_type": "markdown",
   "id": "bcc81f19",
   "metadata": {},
   "source": [
    "# Random Forest"
   ]
  },
  {
   "cell_type": "code",
   "execution_count": 30,
   "id": "49643793",
   "metadata": {},
   "outputs": [],
   "source": [
    "from sklearn.ensemble import RandomForestClassifier\n",
    "rf=RandomForestClassifier()"
   ]
  },
  {
   "cell_type": "code",
   "execution_count": 31,
   "id": "9d8fc6d4",
   "metadata": {},
   "outputs": [
    {
     "data": {
      "text/plain": [
       "RandomForestClassifier()"
      ]
     },
     "execution_count": 31,
     "metadata": {},
     "output_type": "execute_result"
    }
   ],
   "source": [
    "rf.fit(x_train,y_train)"
   ]
  },
  {
   "cell_type": "code",
   "execution_count": 32,
   "id": "388a092f",
   "metadata": {},
   "outputs": [],
   "source": [
    "pred=rf.predict(x_test)"
   ]
  },
  {
   "cell_type": "code",
   "execution_count": 33,
   "id": "f714d6ab",
   "metadata": {},
   "outputs": [
    {
     "data": {
      "text/plain": [
       "array([[ 3805,     5,  4893],\n",
       "       [   70,  1455,  3116],\n",
       "       [   40,     8, 46496]], dtype=int64)"
      ]
     },
     "execution_count": 33,
     "metadata": {},
     "output_type": "execute_result"
    }
   ],
   "source": [
    "from sklearn.metrics import confusion_matrix\n",
    "tab=confusion_matrix(y_test,pred)\n",
    "tab"
   ]
  },
  {
   "cell_type": "code",
   "execution_count": 34,
   "id": "d53b1b65",
   "metadata": {},
   "outputs": [
    {
     "name": "stdout",
     "output_type": "stream",
     "text": [
      "Accuracy =  86.42131979695431\n"
     ]
    }
   ],
   "source": [
    "from sklearn.metrics import accuracy_score\n",
    "print('Accuracy = ',accuracy_score(y_test,pred)*100)"
   ]
  },
  {
   "cell_type": "code",
   "execution_count": null,
   "id": "cee31c1a",
   "metadata": {},
   "outputs": [],
   "source": []
  },
  {
   "cell_type": "markdown",
   "id": "ac7ff240",
   "metadata": {},
   "source": [
    "# Decision Tree"
   ]
  },
  {
   "cell_type": "code",
   "execution_count": 35,
   "id": "4e53ba33",
   "metadata": {},
   "outputs": [],
   "source": [
    "from sklearn.tree import DecisionTreeClassifier\n",
    "dt=DecisionTreeClassifier()"
   ]
  },
  {
   "cell_type": "code",
   "execution_count": 36,
   "id": "6bf4c186",
   "metadata": {},
   "outputs": [
    {
     "data": {
      "text/plain": [
       "DecisionTreeClassifier()"
      ]
     },
     "execution_count": 36,
     "metadata": {},
     "output_type": "execute_result"
    }
   ],
   "source": [
    "dt.fit(x_train,y_train)"
   ]
  },
  {
   "cell_type": "code",
   "execution_count": 37,
   "id": "d7c3db84",
   "metadata": {},
   "outputs": [],
   "source": [
    "pred=dt.predict(x_test)"
   ]
  },
  {
   "cell_type": "code",
   "execution_count": 38,
   "id": "d9c51506",
   "metadata": {},
   "outputs": [
    {
     "data": {
      "text/plain": [
       "array([[ 5382,   528,  2793],\n",
       "       [  756,  1903,  1982],\n",
       "       [ 2274,  1380, 42890]], dtype=int64)"
      ]
     },
     "execution_count": 38,
     "metadata": {},
     "output_type": "execute_result"
    }
   ],
   "source": [
    "from sklearn.metrics import confusion_matrix\n",
    "tab=confusion_matrix(y_test,pred)\n",
    "tab"
   ]
  },
  {
   "cell_type": "code",
   "execution_count": 39,
   "id": "cab7b705",
   "metadata": {},
   "outputs": [
    {
     "name": "stdout",
     "output_type": "stream",
     "text": [
      "Accuracy =  83.78139193160567\n"
     ]
    }
   ],
   "source": [
    "from sklearn.metrics import accuracy_score\n",
    "print('Accuracy = ',accuracy_score(y_test,pred)*100)"
   ]
  },
  {
   "cell_type": "code",
   "execution_count": null,
   "id": "3f9307cd",
   "metadata": {},
   "outputs": [],
   "source": []
  },
  {
   "cell_type": "markdown",
   "id": "ca3605e1",
   "metadata": {},
   "source": [
    "# Naive Bayes"
   ]
  },
  {
   "cell_type": "code",
   "execution_count": 40,
   "id": "377e7050",
   "metadata": {},
   "outputs": [],
   "source": [
    "from sklearn.naive_bayes import MultinomialNB\n",
    "nb=MultinomialNB()"
   ]
  },
  {
   "cell_type": "code",
   "execution_count": 41,
   "id": "1ee0870d",
   "metadata": {},
   "outputs": [
    {
     "data": {
      "text/plain": [
       "MultinomialNB()"
      ]
     },
     "execution_count": 41,
     "metadata": {},
     "output_type": "execute_result"
    }
   ],
   "source": [
    "nb.fit(x_train,y_train)"
   ]
  },
  {
   "cell_type": "code",
   "execution_count": 42,
   "id": "f832d9ee",
   "metadata": {},
   "outputs": [],
   "source": [
    "pred=nb.predict(x_test)"
   ]
  },
  {
   "cell_type": "code",
   "execution_count": 43,
   "id": "536e4c9d",
   "metadata": {},
   "outputs": [
    {
     "data": {
      "text/plain": [
       "array([[ 5516,   459,  2728],\n",
       "       [  877,   927,  2837],\n",
       "       [ 1585,   909, 44050]], dtype=int64)"
      ]
     },
     "execution_count": 43,
     "metadata": {},
     "output_type": "execute_result"
    }
   ],
   "source": [
    "from sklearn.metrics import confusion_matrix\n",
    "tab=confusion_matrix(y_test,pred)\n",
    "tab"
   ]
  },
  {
   "cell_type": "code",
   "execution_count": 44,
   "id": "63674dbf",
   "metadata": {},
   "outputs": [
    {
     "name": "stdout",
     "output_type": "stream",
     "text": [
      "Accuracy =  84.31238311514828\n"
     ]
    }
   ],
   "source": [
    "from sklearn.metrics import accuracy_score\n",
    "print('Accuracy = ',accuracy_score(y_test,pred)*100)"
   ]
  },
  {
   "cell_type": "code",
   "execution_count": null,
   "id": "4012151f",
   "metadata": {},
   "outputs": [],
   "source": []
  },
  {
   "cell_type": "markdown",
   "id": "f11241de",
   "metadata": {},
   "source": [
    "# AdaBoost Classifier"
   ]
  },
  {
   "cell_type": "code",
   "execution_count": 45,
   "id": "7b3a404a",
   "metadata": {},
   "outputs": [],
   "source": [
    "from sklearn.ensemble import AdaBoostClassifier\n",
    "ada=AdaBoostClassifier()"
   ]
  },
  {
   "cell_type": "code",
   "execution_count": 46,
   "id": "aba0b152",
   "metadata": {},
   "outputs": [
    {
     "data": {
      "text/plain": [
       "AdaBoostClassifier()"
      ]
     },
     "execution_count": 46,
     "metadata": {},
     "output_type": "execute_result"
    }
   ],
   "source": [
    "ada.fit(x_train,y_train)"
   ]
  },
  {
   "cell_type": "code",
   "execution_count": 47,
   "id": "89009d59",
   "metadata": {},
   "outputs": [],
   "source": [
    "pred=ada.predict(x_test)"
   ]
  },
  {
   "cell_type": "code",
   "execution_count": 48,
   "id": "b7e3c18b",
   "metadata": {},
   "outputs": [
    {
     "data": {
      "text/plain": [
       "array([[ 3037,   150,  5516],\n",
       "       [  614,   203,  3824],\n",
       "       [ 1035,   190, 45319]], dtype=int64)"
      ]
     },
     "execution_count": 48,
     "metadata": {},
     "output_type": "execute_result"
    }
   ],
   "source": [
    "from sklearn.metrics import confusion_matrix\n",
    "tab=confusion_matrix(y_test,pred)\n",
    "tab"
   ]
  },
  {
   "cell_type": "code",
   "execution_count": 49,
   "id": "b5f3b325",
   "metadata": {},
   "outputs": [
    {
     "name": "stdout",
     "output_type": "stream",
     "text": [
      "Accuracy =  81.0830216403954\n"
     ]
    }
   ],
   "source": [
    "from sklearn.metrics import accuracy_score\n",
    "print('Accuracy = ',accuracy_score(y_test,pred)*100)"
   ]
  },
  {
   "cell_type": "code",
   "execution_count": null,
   "id": "ce3c0db1",
   "metadata": {},
   "outputs": [],
   "source": []
  },
  {
   "cell_type": "markdown",
   "id": "20d85ab1",
   "metadata": {},
   "source": [
    "# The Highest Accuracy was seen to be 87.05%"
   ]
  },
  {
   "cell_type": "code",
   "execution_count": null,
   "id": "96491528",
   "metadata": {},
   "outputs": [],
   "source": []
  },
  {
   "cell_type": "code",
   "execution_count": null,
   "id": "af27eee0",
   "metadata": {},
   "outputs": [],
   "source": []
  },
  {
   "cell_type": "code",
   "execution_count": null,
   "id": "d4aa4db9",
   "metadata": {},
   "outputs": [],
   "source": []
  }
 ],
 "metadata": {
  "kernelspec": {
   "display_name": "Python 3 (ipykernel)",
   "language": "python",
   "name": "python3"
  },
  "language_info": {
   "codemirror_mode": {
    "name": "ipython",
    "version": 3
   },
   "file_extension": ".py",
   "mimetype": "text/x-python",
   "name": "python",
   "nbconvert_exporter": "python",
   "pygments_lexer": "ipython3",
   "version": "3.9.12"
  }
 },
 "nbformat": 4,
 "nbformat_minor": 5
}
